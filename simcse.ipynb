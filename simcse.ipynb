{
 "cells": [
  {
   "cell_type": "code",
   "execution_count": 8,
   "metadata": {},
   "outputs": [],
   "source": [
    "import pandas as pd\n",
    "from random import shuffle\n",
    "from tqdm import tqdm\n",
    "from sklearn.model_selection import train_test_split"
   ]
  },
  {
   "cell_type": "markdown",
   "metadata": {},
   "source": [
    "## 数据预处理"
   ]
  },
  {
   "cell_type": "code",
   "execution_count": 10,
   "metadata": {},
   "outputs": [
    {
     "name": "stdout",
     "output_type": "stream",
     "text": [
      "商品标题corpus_data = (1001500, 2)\n",
      "用户查询train_data = (100000, 2)\n",
      "查询与商品点击关系qrels = (100000, 2)\n",
      "用户查询test_data = (1000, 2)\n"
     ]
    }
   ],
   "source": [
    "corpus_data = pd.read_csv( \"./data/corpus.tsv\", sep=\"\\t\", names=[\"gid\", \"gname\"])\n",
    "print(f\"商品标题corpus_data = {corpus_data.shape}\")\n",
    "train_data = pd.read_csv(\"./data/train.query.txt\", sep=\"\\t\", names=[\"qid\", \"query\"])\n",
    "print(f\"用户查询train_data = {train_data.shape}\")\n",
    "qrels = pd.read_csv(\"./data/qrels.train.tsv\", sep=\"\\t\", names=[\"qid\", \"gid\"])\n",
    "print(f\"查询与商品点击关系qrels = {qrels.shape}\")\n",
    "test_data = pd.read_csv(\"./data/dev.query.txt\", sep=\"\\t\", names=[\"qid\", \"query\"])\n",
    "print(f\"用户查询test_data = {test_data.shape}\")\n",
    "\n",
    "corpus_data = corpus_data.set_index(\"gid\")\n",
    "train_data = train_data.set_index(\"qid\")\n",
    "qrels = qrels.set_index(\"qid\")\n",
    "test_data = test_data.set_index(\"qid\")"
   ]
  },
  {
   "cell_type": "code",
   "execution_count": 11,
   "metadata": {},
   "outputs": [],
   "source": [
    "query2corpus = pd.DataFrame(data=corpus_data.loc[qrels.gid]['gname'].values,index=train_data.loc[qrels.index]['query'],columns=['gname'])"
   ]
  },
  {
   "cell_type": "code",
   "execution_count": null,
   "metadata": {},
   "outputs": [],
   "source": [
    "X_train,X_val = train_test_split(query2corpus,test_size=0.1)"
   ]
  },
  {
   "cell_type": "code",
   "execution_count": null,
   "metadata": {},
   "outputs": [],
   "source": [
    "X_train.to_csv(\"./data/X_train.csv\")"
   ]
  }
 ],
 "metadata": {
  "interpreter": {
   "hash": "26bec10237431ffccd75b56311d661b39148e6a51398c93462a8a53150f78cf1"
  },
  "kernelspec": {
   "display_name": "Python 3.8.12 ('py38')",
   "language": "python",
   "name": "python3"
  },
  "language_info": {
   "codemirror_mode": {
    "name": "ipython",
    "version": 3
   },
   "file_extension": ".py",
   "mimetype": "text/x-python",
   "name": "python",
   "nbconvert_exporter": "python",
   "pygments_lexer": "ipython3",
   "version": "3.8.12"
  },
  "orig_nbformat": 4
 },
 "nbformat": 4,
 "nbformat_minor": 2
}
