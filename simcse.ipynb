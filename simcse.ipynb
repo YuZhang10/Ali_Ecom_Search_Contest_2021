{
 "cells": [
  {
   "cell_type": "code",
   "execution_count": 1,
   "metadata": {},
   "outputs": [],
   "source": [
    "import pandas as pd\n",
    "from random import shuffle\n",
    "from tqdm import tqdm\n",
    "from sklearn.model_selection import train_test_split"
   ]
  },
  {
   "cell_type": "markdown",
   "metadata": {},
   "source": [
    "## 数据预处理"
   ]
  },
  {
   "cell_type": "code",
   "execution_count": 2,
   "metadata": {},
   "outputs": [
    {
     "name": "stdout",
     "output_type": "stream",
     "text": [
      "商品标题corpus_data = (1001500, 2)\n",
      "用户查询train_data = (100000, 2)\n",
      "查询与商品点击关系qrels = (100000, 2)\n",
      "用户查询test_data = (1000, 2)\n"
     ]
    }
   ],
   "source": [
    "corpus_data = pd.read_csv( \"./data/corpus.tsv\", sep=\"\\t\", names=[\"gid\", \"gname\"])\n",
    "print(f\"商品标题corpus_data = {corpus_data.shape}\")\n",
    "train_data = pd.read_csv(\"./data/train.query.txt\", sep=\"\\t\", names=[\"qid\", \"query\"])\n",
    "print(f\"用户查询train_data = {train_data.shape}\")\n",
    "qrels = pd.read_csv(\"./data/qrels.train.tsv\", sep=\"\\t\", names=[\"qid\", \"gid\"])\n",
    "print(f\"查询与商品点击关系qrels = {qrels.shape}\")\n",
    "test_data = pd.read_csv(\"./data/dev.query.txt\", sep=\"\\t\", names=[\"qid\", \"query\"])\n",
    "print(f\"用户查询test_data = {test_data.shape}\")\n",
    "\n",
    "corpus_data = corpus_data.set_index(\"gid\")\n",
    "train_data = train_data.set_index(\"qid\")\n",
    "qrels = qrels.set_index(\"qid\")\n",
    "test_data = test_data.set_index(\"qid\")"
   ]
  },
  {
   "cell_type": "code",
   "execution_count": 5,
   "metadata": {},
   "outputs": [
    {
     "data": {
      "text/html": [
       "<div>\n",
       "<style scoped>\n",
       "    .dataframe tbody tr th:only-of-type {\n",
       "        vertical-align: middle;\n",
       "    }\n",
       "\n",
       "    .dataframe tbody tr th {\n",
       "        vertical-align: top;\n",
       "    }\n",
       "\n",
       "    .dataframe thead th {\n",
       "        text-align: right;\n",
       "    }\n",
       "</style>\n",
       "<table border=\"1\" class=\"dataframe\">\n",
       "  <thead>\n",
       "    <tr style=\"text-align: right;\">\n",
       "      <th></th>\n",
       "      <th>query</th>\n",
       "    </tr>\n",
       "    <tr>\n",
       "      <th>qid</th>\n",
       "      <th></th>\n",
       "    </tr>\n",
       "  </thead>\n",
       "  <tbody>\n",
       "    <tr>\n",
       "      <th>200001</th>\n",
       "      <td>甲黄酸阿怕替尼片</td>\n",
       "    </tr>\n",
       "    <tr>\n",
       "      <th>200002</th>\n",
       "      <td>索泰zbox</td>\n",
       "    </tr>\n",
       "    <tr>\n",
       "      <th>200003</th>\n",
       "      <td>kfc游戏机</td>\n",
       "    </tr>\n",
       "    <tr>\n",
       "      <th>200004</th>\n",
       "      <td>bunny成兔粮</td>\n",
       "    </tr>\n",
       "    <tr>\n",
       "      <th>200005</th>\n",
       "      <td>铁线威灵仙</td>\n",
       "    </tr>\n",
       "    <tr>\n",
       "      <th>...</th>\n",
       "      <td>...</td>\n",
       "    </tr>\n",
       "    <tr>\n",
       "      <th>200996</th>\n",
       "      <td>液压煎孑</td>\n",
       "    </tr>\n",
       "    <tr>\n",
       "      <th>200997</th>\n",
       "      <td>友鱼水水族</td>\n",
       "    </tr>\n",
       "    <tr>\n",
       "      <th>200998</th>\n",
       "      <td>玻璃水帘</td>\n",
       "    </tr>\n",
       "    <tr>\n",
       "      <th>200999</th>\n",
       "      <td>至关车载充电器qk789</td>\n",
       "    </tr>\n",
       "    <tr>\n",
       "      <th>201000</th>\n",
       "      <td>帮企干烧煲</td>\n",
       "    </tr>\n",
       "  </tbody>\n",
       "</table>\n",
       "<p>1000 rows × 1 columns</p>\n",
       "</div>"
      ],
      "text/plain": [
       "               query\n",
       "qid                 \n",
       "200001      甲黄酸阿怕替尼片\n",
       "200002        索泰zbox\n",
       "200003        kfc游戏机\n",
       "200004      bunny成兔粮\n",
       "200005         铁线威灵仙\n",
       "...              ...\n",
       "200996          液压煎孑\n",
       "200997         友鱼水水族\n",
       "200998          玻璃水帘\n",
       "200999  至关车载充电器qk789\n",
       "201000         帮企干烧煲\n",
       "\n",
       "[1000 rows x 1 columns]"
      ]
     },
     "execution_count": 5,
     "metadata": {},
     "output_type": "execute_result"
    }
   ],
   "source": [
    "test_data"
   ]
  },
  {
   "cell_type": "code",
   "execution_count": 6,
   "metadata": {},
   "outputs": [
    {
     "data": {
      "text/html": [
       "<div>\n",
       "<style scoped>\n",
       "    .dataframe tbody tr th:only-of-type {\n",
       "        vertical-align: middle;\n",
       "    }\n",
       "\n",
       "    .dataframe tbody tr th {\n",
       "        vertical-align: top;\n",
       "    }\n",
       "\n",
       "    .dataframe thead th {\n",
       "        text-align: right;\n",
       "    }\n",
       "</style>\n",
       "<table border=\"1\" class=\"dataframe\">\n",
       "  <thead>\n",
       "    <tr style=\"text-align: right;\">\n",
       "      <th></th>\n",
       "      <th>query</th>\n",
       "    </tr>\n",
       "    <tr>\n",
       "      <th>qid</th>\n",
       "      <th></th>\n",
       "    </tr>\n",
       "  </thead>\n",
       "  <tbody>\n",
       "    <tr>\n",
       "      <th>1</th>\n",
       "      <td>美赞臣亲舒一段</td>\n",
       "    </tr>\n",
       "    <tr>\n",
       "      <th>2</th>\n",
       "      <td>慱朗手动料理机</td>\n",
       "    </tr>\n",
       "    <tr>\n",
       "      <th>3</th>\n",
       "      <td>電力貓</td>\n",
       "    </tr>\n",
       "    <tr>\n",
       "      <th>4</th>\n",
       "      <td>掏夹缝工具</td>\n",
       "    </tr>\n",
       "    <tr>\n",
       "      <th>5</th>\n",
       "      <td>飞推vip</td>\n",
       "    </tr>\n",
       "    <tr>\n",
       "      <th>...</th>\n",
       "      <td>...</td>\n",
       "    </tr>\n",
       "    <tr>\n",
       "      <th>99996</th>\n",
       "      <td>新娘手饰品</td>\n",
       "    </tr>\n",
       "    <tr>\n",
       "      <th>99997</th>\n",
       "      <td>一吨铲车</td>\n",
       "    </tr>\n",
       "    <tr>\n",
       "      <th>99998</th>\n",
       "      <td>避風塘蟹香蒜酥</td>\n",
       "    </tr>\n",
       "    <tr>\n",
       "      <th>99999</th>\n",
       "      <td>贝诗佳手膜</td>\n",
       "    </tr>\n",
       "    <tr>\n",
       "      <th>100000</th>\n",
       "      <td>俄罗斯蓝猫</td>\n",
       "    </tr>\n",
       "  </tbody>\n",
       "</table>\n",
       "<p>100000 rows × 1 columns</p>\n",
       "</div>"
      ],
      "text/plain": [
       "          query\n",
       "qid            \n",
       "1       美赞臣亲舒一段\n",
       "2       慱朗手动料理机\n",
       "3           電力貓\n",
       "4         掏夹缝工具\n",
       "5         飞推vip\n",
       "...         ...\n",
       "99996     新娘手饰品\n",
       "99997      一吨铲车\n",
       "99998   避風塘蟹香蒜酥\n",
       "99999     贝诗佳手膜\n",
       "100000    俄罗斯蓝猫\n",
       "\n",
       "[100000 rows x 1 columns]"
      ]
     },
     "execution_count": 6,
     "metadata": {},
     "output_type": "execute_result"
    }
   ],
   "source": [
    "train_data"
   ]
  },
  {
   "cell_type": "code",
   "execution_count": 3,
   "metadata": {},
   "outputs": [
    {
     "data": {
      "text/html": [
       "<div>\n",
       "<style scoped>\n",
       "    .dataframe tbody tr th:only-of-type {\n",
       "        vertical-align: middle;\n",
       "    }\n",
       "\n",
       "    .dataframe tbody tr th {\n",
       "        vertical-align: top;\n",
       "    }\n",
       "\n",
       "    .dataframe thead th {\n",
       "        text-align: right;\n",
       "    }\n",
       "</style>\n",
       "<table border=\"1\" class=\"dataframe\">\n",
       "  <thead>\n",
       "    <tr style=\"text-align: right;\">\n",
       "      <th></th>\n",
       "      <th>gname</th>\n",
       "    </tr>\n",
       "    <tr>\n",
       "      <th>gid</th>\n",
       "      <th></th>\n",
       "    </tr>\n",
       "  </thead>\n",
       "  <tbody>\n",
       "    <tr>\n",
       "      <th>1</th>\n",
       "      <td>铂盛弹盖文艺保温杯学生男女情侣车载时尚英文锁扣不锈钢真空水杯</td>\n",
       "    </tr>\n",
       "    <tr>\n",
       "      <th>2</th>\n",
       "      <td>可爱虎子华为荣耀X30i手机壳荣耀x30防摔全包镜头honorx30max液态硅胶虎年情侣女...</td>\n",
       "    </tr>\n",
       "    <tr>\n",
       "      <th>3</th>\n",
       "      <td>190色素色亚麻棉平纹布料 衬衫裙服装定制手工绣花面料 汇典亚麻</td>\n",
       "    </tr>\n",
       "    <tr>\n",
       "      <th>4</th>\n",
       "      <td>松尼合金木工开孔器实木门开锁孔木板圆形打空神器定位打孔钻头</td>\n",
       "    </tr>\n",
       "    <tr>\n",
       "      <th>5</th>\n",
       "      <td>微钩绿蝴蝶材料包非成品 赠送视频组装教程 需自备钩针染料</td>\n",
       "    </tr>\n",
       "    <tr>\n",
       "      <th>...</th>\n",
       "      <td>...</td>\n",
       "    </tr>\n",
       "    <tr>\n",
       "      <th>1001496</th>\n",
       "      <td>专治牛皮癣特效中药膏专用药浴软膏银屑病老偏方泡澡沐浴露洗发水</td>\n",
       "    </tr>\n",
       "    <tr>\n",
       "      <th>1001497</th>\n",
       "      <td>梳妆台镜子遮挡帘神器卫生间免打孔魔术贴拉帘轨道式防尘布帘滑轨</td>\n",
       "    </tr>\n",
       "    <tr>\n",
       "      <th>1001498</th>\n",
       "      <td>护目镜透明化工实验室防护眼镜农药防风烟雾打磨粉尘飞溅平光镜</td>\n",
       "    </tr>\n",
       "    <tr>\n",
       "      <th>1001499</th>\n",
       "      <td>克莱因蓝发带女日常外戴秋冬百搭宽边运动头箍韩国网红头饰酷街头</td>\n",
       "    </tr>\n",
       "    <tr>\n",
       "      <th>1001500</th>\n",
       "      <td>真手表打火机带手电筒真车钥匙电子手表打火机充电防风送男友潮</td>\n",
       "    </tr>\n",
       "  </tbody>\n",
       "</table>\n",
       "<p>1001500 rows × 1 columns</p>\n",
       "</div>"
      ],
      "text/plain": [
       "                                                     gname\n",
       "gid                                                       \n",
       "1                           铂盛弹盖文艺保温杯学生男女情侣车载时尚英文锁扣不锈钢真空水杯\n",
       "2        可爱虎子华为荣耀X30i手机壳荣耀x30防摔全包镜头honorx30max液态硅胶虎年情侣女...\n",
       "3                         190色素色亚麻棉平纹布料 衬衫裙服装定制手工绣花面料 汇典亚麻\n",
       "4                            松尼合金木工开孔器实木门开锁孔木板圆形打空神器定位打孔钻头\n",
       "5                             微钩绿蝴蝶材料包非成品 赠送视频组装教程 需自备钩针染料\n",
       "...                                                    ...\n",
       "1001496                     专治牛皮癣特效中药膏专用药浴软膏银屑病老偏方泡澡沐浴露洗发水\n",
       "1001497                     梳妆台镜子遮挡帘神器卫生间免打孔魔术贴拉帘轨道式防尘布帘滑轨\n",
       "1001498                      护目镜透明化工实验室防护眼镜农药防风烟雾打磨粉尘飞溅平光镜\n",
       "1001499                     克莱因蓝发带女日常外戴秋冬百搭宽边运动头箍韩国网红头饰酷街头\n",
       "1001500                      真手表打火机带手电筒真车钥匙电子手表打火机充电防风送男友潮\n",
       "\n",
       "[1001500 rows x 1 columns]"
      ]
     },
     "execution_count": 3,
     "metadata": {},
     "output_type": "execute_result"
    }
   ],
   "source": [
    "corpus_data"
   ]
  },
  {
   "cell_type": "code",
   "execution_count": 18,
   "metadata": {},
   "outputs": [],
   "source": [
    "corpus_data.to_csv(\"./data/corpus.csv\",index=False)"
   ]
  },
  {
   "cell_type": "code",
   "execution_count": 14,
   "metadata": {},
   "outputs": [],
   "source": [
    "pd.concat(\n",
    "    [\n",
    "        corpus_data.rename(columns={'gname':'sentence'}),\n",
    "        # train_data.rename(columns={'query':'sentence'}),\n",
    "        # test_data.rename(columns={'query':'sentence'})\n",
    "    ],\n",
    "    ignore_index=True).to_csv(\"./data/full_corpus_querys.csv\",index=False)"
   ]
  },
  {
   "cell_type": "code",
   "execution_count": 15,
   "metadata": {},
   "outputs": [
    {
     "data": {
      "text/html": [
       "<div>\n",
       "<style scoped>\n",
       "    .dataframe tbody tr th:only-of-type {\n",
       "        vertical-align: middle;\n",
       "    }\n",
       "\n",
       "    .dataframe tbody tr th {\n",
       "        vertical-align: top;\n",
       "    }\n",
       "\n",
       "    .dataframe thead th {\n",
       "        text-align: right;\n",
       "    }\n",
       "</style>\n",
       "<table border=\"1\" class=\"dataframe\">\n",
       "  <thead>\n",
       "    <tr style=\"text-align: right;\">\n",
       "      <th></th>\n",
       "      <th>sentence</th>\n",
       "    </tr>\n",
       "  </thead>\n",
       "  <tbody>\n",
       "    <tr>\n",
       "      <th>0</th>\n",
       "      <td>铂盛弹盖文艺保温杯学生男女情侣车载时尚英文锁扣不锈钢真空水杯</td>\n",
       "    </tr>\n",
       "    <tr>\n",
       "      <th>1</th>\n",
       "      <td>可爱虎子华为荣耀X30i手机壳荣耀x30防摔全包镜头honorx30max液态硅胶虎年情侣女...</td>\n",
       "    </tr>\n",
       "    <tr>\n",
       "      <th>2</th>\n",
       "      <td>190色素色亚麻棉平纹布料 衬衫裙服装定制手工绣花面料 汇典亚麻</td>\n",
       "    </tr>\n",
       "    <tr>\n",
       "      <th>3</th>\n",
       "      <td>松尼合金木工开孔器实木门开锁孔木板圆形打空神器定位打孔钻头</td>\n",
       "    </tr>\n",
       "    <tr>\n",
       "      <th>4</th>\n",
       "      <td>微钩绿蝴蝶材料包非成品 赠送视频组装教程 需自备钩针染料</td>\n",
       "    </tr>\n",
       "    <tr>\n",
       "      <th>...</th>\n",
       "      <td>...</td>\n",
       "    </tr>\n",
       "    <tr>\n",
       "      <th>1102495</th>\n",
       "      <td>液压煎孑</td>\n",
       "    </tr>\n",
       "    <tr>\n",
       "      <th>1102496</th>\n",
       "      <td>友鱼水水族</td>\n",
       "    </tr>\n",
       "    <tr>\n",
       "      <th>1102497</th>\n",
       "      <td>玻璃水帘</td>\n",
       "    </tr>\n",
       "    <tr>\n",
       "      <th>1102498</th>\n",
       "      <td>至关车载充电器qk789</td>\n",
       "    </tr>\n",
       "    <tr>\n",
       "      <th>1102499</th>\n",
       "      <td>帮企干烧煲</td>\n",
       "    </tr>\n",
       "  </tbody>\n",
       "</table>\n",
       "<p>1102500 rows × 1 columns</p>\n",
       "</div>"
      ],
      "text/plain": [
       "                                                  sentence\n",
       "0                           铂盛弹盖文艺保温杯学生男女情侣车载时尚英文锁扣不锈钢真空水杯\n",
       "1        可爱虎子华为荣耀X30i手机壳荣耀x30防摔全包镜头honorx30max液态硅胶虎年情侣女...\n",
       "2                         190色素色亚麻棉平纹布料 衬衫裙服装定制手工绣花面料 汇典亚麻\n",
       "3                            松尼合金木工开孔器实木门开锁孔木板圆形打空神器定位打孔钻头\n",
       "4                             微钩绿蝴蝶材料包非成品 赠送视频组装教程 需自备钩针染料\n",
       "...                                                    ...\n",
       "1102495                                               液压煎孑\n",
       "1102496                                              友鱼水水族\n",
       "1102497                                               玻璃水帘\n",
       "1102498                                       至关车载充电器qk789\n",
       "1102499                                              帮企干烧煲\n",
       "\n",
       "[1102500 rows x 1 columns]"
      ]
     },
     "execution_count": 15,
     "metadata": {},
     "output_type": "execute_result"
    }
   ],
   "source": [
    "pd.read_csv(\"./data/full_corpus_querys.csv\")"
   ]
  },
  {
   "cell_type": "code",
   "execution_count": 5,
   "metadata": {},
   "outputs": [],
   "source": [
    "query2corpus = pd.DataFrame(data=corpus_data.loc[qrels.gid]['gname'].values,index=train_data.loc[qrels.index]['query'],columns=['gname'])"
   ]
  },
  {
   "cell_type": "code",
   "execution_count": 7,
   "metadata": {},
   "outputs": [],
   "source": [
    "query2corpus.to_csv(\"./data/full_df.csv\")"
   ]
  },
  {
   "cell_type": "code",
   "execution_count": 14,
   "metadata": {},
   "outputs": [],
   "source": [
    "X_train,X_val = train_test_split(query2corpus,test_size=0.01)"
   ]
  },
  {
   "cell_type": "code",
   "execution_count": 15,
   "metadata": {},
   "outputs": [],
   "source": [
    "X_train.to_csv(\"./data/X_train.csv\")\n",
    "X_val.to_csv(\"./data/X_val.csv\")"
   ]
  },
  {
   "cell_type": "code",
   "execution_count": 17,
   "metadata": {},
   "outputs": [
    {
     "data": {
      "text/plain": [
       "(99000, 2)"
      ]
     },
     "execution_count": 17,
     "metadata": {},
     "output_type": "execute_result"
    }
   ],
   "source": [
    "test_df = pd.read_csv(\"./data/X_train.csv\")\n",
    "test_df.shape"
   ]
  },
  {
   "cell_type": "code",
   "execution_count": null,
   "metadata": {},
   "outputs": [],
   "source": []
  }
 ],
 "metadata": {
  "interpreter": {
   "hash": "26bec10237431ffccd75b56311d661b39148e6a51398c93462a8a53150f78cf1"
  },
  "kernelspec": {
   "display_name": "Python 3.8.12 ('py38')",
   "language": "python",
   "name": "python3"
  },
  "language_info": {
   "codemirror_mode": {
    "name": "ipython",
    "version": 3
   },
   "file_extension": ".py",
   "mimetype": "text/x-python",
   "name": "python",
   "nbconvert_exporter": "python",
   "pygments_lexer": "ipython3",
   "version": "3.8.12"
  },
  "orig_nbformat": 4
 },
 "nbformat": 4,
 "nbformat_minor": 2
}
